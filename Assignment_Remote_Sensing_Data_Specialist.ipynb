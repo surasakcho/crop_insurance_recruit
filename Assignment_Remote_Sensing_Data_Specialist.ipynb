{
  "nbformat": 4,
  "nbformat_minor": 0,
  "metadata": {
    "colab": {
      "name": "Assignment-Remote-Sensing-Data-Specialist.ipynb",
      "provenance": [],
      "collapsed_sections": [],
      "toc_visible": true,
      "authorship_tag": "ABX9TyPzBP+1fu+WZ+oQUQ+a29Tz",
      "include_colab_link": true
    },
    "kernelspec": {
      "name": "python3",
      "display_name": "Python 3"
    }
  },
  "cells": [
    {
      "cell_type": "markdown",
      "metadata": {
        "id": "view-in-github",
        "colab_type": "text"
      },
      "source": [
        "<a href=\"https://colab.research.google.com/github/surasakcho/crop_insurance_recruit/blob/master/Assignment_Remote_Sensing_Data_Specialist.ipynb\" target=\"_parent\"><img src=\"https://colab.research.google.com/assets/colab-badge.svg\" alt=\"Open In Colab\"/></a>"
      ]
    },
    {
      "cell_type": "markdown",
      "metadata": {
        "id": "JfGMqusbUgIS",
        "colab_type": "text"
      },
      "source": [
        "# Download and preprocess NDVI from Sentinel-2"
      ]
    },
    {
      "cell_type": "markdown",
      "metadata": {
        "id": "VnUaZQ-wT_Zv",
        "colab_type": "text"
      },
      "source": [
        "## Install libraries"
      ]
    },
    {
      "cell_type": "code",
      "metadata": {
        "id": "BTzj4_ObS-eC",
        "colab_type": "code",
        "colab": {}
      },
      "source": [
        "!pip install gcsfs rasterio geopandas"
      ],
      "execution_count": null,
      "outputs": []
    },
    {
      "cell_type": "markdown",
      "metadata": {
        "id": "b8TTl2kyUUkp",
        "colab_type": "text"
      },
      "source": [
        "## Import libraries"
      ]
    },
    {
      "cell_type": "code",
      "metadata": {
        "id": "pCMhO6MWSvF5",
        "colab_type": "code",
        "colab": {}
      },
      "source": [
        "import pandas as pd\n",
        "import numpy as np\n",
        "import geopandas as gpd\n",
        "import gdal\n",
        "import rasterio\n",
        "import matplotlib.pyplot as plt\n",
        "import os\n",
        "from tqdm.notebook import tqdm\n",
        "from google.colab import auth\n",
        "auth.authenticate_user()"
      ],
      "execution_count": null,
      "outputs": []
    },
    {
      "cell_type": "markdown",
      "metadata": {
        "id": "2lLCx0CvUXfj",
        "colab_type": "text"
      },
      "source": [
        "## Download Sentinel-2 files."
      ]
    },
    {
      "cell_type": "code",
      "metadata": {
        "id": "38M70e0texoA",
        "colab_type": "code",
        "colab": {}
      },
      "source": [
        "%load_ext google.colab.data_table"
      ],
      "execution_count": null,
      "outputs": []
    },
    {
      "cell_type": "code",
      "metadata": {
        "id": "EN6RVAYhS26u",
        "colab_type": "code",
        "colab": {}
      },
      "source": [
        "# Get url for Sentinel-2 image and save output in a variable `df_index`\n",
        "\n",
        "%%bigquery --project crop-sen2 df_index\n",
        "SELECT * FROM `bigquery-public-data.cloud_storage_geo_index.sentinel_2_index`\n",
        "WHERE mgrs_tile = '48QUD'\n",
        "AND sensing_time like '2020-07-07%' "
      ],
      "execution_count": null,
      "outputs": []
    },
    {
      "cell_type": "code",
      "metadata": {
        "id": "kSEv64wcWEzR",
        "colab_type": "code",
        "colab": {}
      },
      "source": [
        "#Download raw images into /tmp/raw/\n",
        "\n",
        "try:\n",
        "    os.mkdir('/tmp/raw')\n",
        "except:\n",
        "    pass\n",
        "target_url = df_index.base_url[0]\n",
        "print(f'Downloading from {target_url}...')\n",
        "os.system(f'gsutil cp {target_url}/*/*/*/*_B04.jp2 /tmp/raw/')\n",
        "os.system(f'gsutil cp {target_url}/*/*/*/*_B08.jp2 /tmp/raw/')\n"
      ],
      "execution_count": null,
      "outputs": []
    },
    {
      "cell_type": "markdown",
      "metadata": {
        "id": "dawswOL936X-",
        "colab_type": "text"
      },
      "source": [
        "# Calculate NDVI"
      ]
    },
    {
      "cell_type": "code",
      "metadata": {
        "id": "pEd-G1Q4ao24",
        "colab_type": "code",
        "colab": {}
      },
      "source": [
        "def calculate_ndvi(red_path, nir_path, out_path):\n",
        "    \n",
        "    #Edit here\n",
        "    None\n",
        "    #Edit here"
      ],
      "execution_count": null,
      "outputs": []
    },
    {
      "cell_type": "code",
      "metadata": {
        "id": "Q7eHOjB-vQXJ",
        "colab_type": "code",
        "colab": {}
      },
      "source": [
        "\n",
        "try:\n",
        "    os.mkdir('/tmp/ndvi')\n",
        "except:\n",
        "    pass\n",
        "\n",
        "out_path = '/tmp/ndvi/ndvi.tif')   \n",
        "red_path = '/tmp/raw/T48QUD_20200707T032541_B04.jp2'\n",
        "nir_path = '/tmp/raw/T48QUD_20200707T032541_B08.jp2'\n",
        "calculate_ndvi(red_path, nir_path, out_path)"
      ],
      "execution_count": null,
      "outputs": []
    },
    {
      "cell_type": "markdown",
      "metadata": {
        "id": "Cy-BJcWW33MM",
        "colab_type": "text"
      },
      "source": [
        "# Reproject and transform NDVI image"
      ]
    },
    {
      "cell_type": "code",
      "metadata": {
        "id": "UJyRfak0cOB8",
        "colab_type": "code",
        "colab": {}
      },
      "source": [
        "def reproject(in_path, out_path):\n",
        "    #Edit here\n",
        "    None\n",
        "    #Edit here"
      ],
      "execution_count": null,
      "outputs": []
    },
    {
      "cell_type": "code",
      "metadata": {
        "id": "e3lFle4zdSMr",
        "colab_type": "code",
        "colab": {}
      },
      "source": [
        "in_ndvi_path = '/tmp/ndvi/ndvi.tif'\n",
        "out_ndvi_path = '/tmp/ndvi/ndvi_reprojected'\n",
        "reproject(in_ndvi_path, out_ndvi_path)"
      ],
      "execution_count": null,
      "outputs": []
    },
    {
      "cell_type": "code",
      "metadata": {
        "id": "v75iIGbs31eJ",
        "colab_type": "code",
        "colab": {}
      },
      "source": [
        ""
      ],
      "execution_count": null,
      "outputs": []
    }
  ]
}